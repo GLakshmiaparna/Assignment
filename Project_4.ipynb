{
  "nbformat": 4,
  "nbformat_minor": 0,
  "metadata": {
    "colab": {
      "provenance": [],
      "authorship_tag": "ABX9TyNkNB+gPCAJ6Mfi9dNxC8lt",
      "include_colab_link": true
    },
    "kernelspec": {
      "name": "python3",
      "display_name": "Python 3"
    },
    "language_info": {
      "name": "python"
    }
  },
  "cells": [
    {
      "cell_type": "markdown",
      "metadata": {
        "id": "view-in-github",
        "colab_type": "text"
      },
      "source": [
        "<a href=\"https://colab.research.google.com/github/GLakshmiaparna/Assignment/blob/main/Project_4.ipynb\" target=\"_parent\"><img src=\"https://colab.research.google.com/assets/colab-badge.svg\" alt=\"Open In Colab\"/></a>"
      ]
    },
    {
      "cell_type": "code",
      "source": [
        "import re\n",
        "import random\n",
        "\n",
        "# define a function to generate responses\n",
        "def get_response(user_input):\n",
        "    # convert user input to lowercase\n",
        "    user_input = user_input.lower()\n",
        "\n",
        "    # extract information using regular expressions\n",
        "    match = re.search(r'hi|hello|hey', user_input)\n",
        "    if match:\n",
        "        responses = [\"Hi there!\", \"Hello!\", \"Hey!\"]\n",
        "        return random.choice(responses)\n",
        "\n",
        "    match = re.search(r'what is your name', user_input)\n",
        "    if match:\n",
        "        return \"My name is Chatbot\"\n",
        "\n",
        "    match = re.search(r'my name is (.+)', user_input)\n",
        "    if match:\n",
        "        name = match.group(1)\n",
        "        responses = [\"Nice to meet you, \" + name + \"!\", \"Hello, \" + name + \"!\"]\n",
        "        return random.choice(responses)\n",
        "\n",
        "    match = re.search(r'joke|funny|laugh', user_input)\n",
        "    if match:\n",
        "        jokes = [\"Why did the tomato turn red? Because it saw the salad dressing!\", \"Why did the chicken cross the playground? To get to the other slide!\", \"What do you call a bear with no teeth? A gummy bear!\"]\n",
        "        return random.choice(jokes)\n",
        "\n",
        "    match = re.search(r'what\\'s your purpose', user_input)\n",
        "    if match:\n",
        "        return \"My purpose is to assist users with information and tasks, and to provide a helpful and engaging conversation.\"\n",
        "\n",
        "    match = re.search(r'tell me a story', user_input)\n",
        "    if match:\n",
        "        return \"Here's a short story: Once upon a time, there was a chatbot named Meta who lived in a virtual world. Meta loved to chat with users and help them with their questions. One day, a user asked Meta to tell a story, and Meta was happy to oblige.\"\n",
        "\n",
        "    match = re.search(r'summarize a news article', user_input)\n",
        "    if match:\n",
        "        return \"I'd be happy to summarize a news article for you. Please provide the URL of the article or a brief description of the topic you're interested in.\"\n",
        "\n",
        "    match = re.search(r'recommend a movie', user_input)\n",
        "    if match:\n",
        "        return \"I'd be happy to recommend a movie. What type of movie are you in the mood for? Action, comedy, romance, or something else?\"\n",
        "\n",
        "    match = re.search(r'customer support', user_input)\n",
        "    if match:\n",
        "        return \"I can provide general customer support and answer frequently asked questions. However, for more complex issues, I may need to escalate the issue to a human customer support agent.\"\n",
        "\n",
        "    # generate longer responses\n",
        "    greetings = ['Hello!', 'Hi!', 'Hey there!', 'Howdy!', 'Greetings!']\n",
        "    topics = ['weather', 'food', 'movies', 'books', 'travel', 'music']\n",
        "    questions = ['How are you today?', 'What have you been up to?', 'What do you think of the ' + random.choice(topics) + '?']\n",
        "    responses = ['I am a chatbot and I do not have emotions, but thank you for asking!', 'I am here to assist you with your needs. How can I help you today?', 'I am programmed to talk about a variety of topics, such as ' + ', '.join(topics) + '. What would you like to discuss?', 'I am sorry, I did not understand your question. Could you please rephrase it?', 'Interesting, tell me more about that.']\n",
        "\n",
        "    if user_input.endswith('?'):\n",
        "        return random.choice(questions)\n",
        "    else:\n",
        "        return random.choice(greetings) + ' ' + random.choice(responses)\n",
        "\n",
        "# main loop\n",
        "while True:\n",
        "    user_input = input(\"You: \")\n",
        "    response = get_response(user_input)\n",
        "    print(\"Chatbot:\", response)"
      ],
      "metadata": {
        "colab": {
          "base_uri": "https://localhost:8080/"
        },
        "id": "5swhW18NklL8",
        "outputId": "13852139-e1d1-49e8-b750-0fcaeb914c63"
      },
      "execution_count": null,
      "outputs": [
        {
          "metadata": {
            "tags": null
          },
          "name": "stdout",
          "output_type": "stream",
          "text": [
            "Chatbot: Hey!\n",
            "Chatbot: Hello! I am here to assist you with your needs. How can I help you today?\n",
            "Chatbot: Hello! I am here to assist you with your needs. How can I help you today?\n",
            "Chatbot: Hey there! I am sorry, I did not understand your question. Could you please rephrase it?\n",
            "Chatbot: Greetings! I am sorry, I did not understand your question. Could you please rephrase it?\n",
            "Chatbot: Greetings! I am sorry, I did not understand your question. Could you please rephrase it?\n",
            "Chatbot: I can provide general customer support and answer frequently asked questions. However, for more complex issues, I may need to escalate the issue to a human customer support agent.\n"
          ]
        }
      ]
    }
  ]
}